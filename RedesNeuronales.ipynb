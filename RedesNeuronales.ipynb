{
 "cells": [
  {
   "cell_type": "markdown",
   "id": "80598b01-d449-4463-bd73-ad4f8a480144",
   "metadata": {},
   "source": [
    "# Redes Neuronales"
   ]
  },
  {
   "cell_type": "code",
   "execution_count": 66,
   "id": "6398a971-dc9d-4651-a793-e9e1a79c72d2",
   "metadata": {},
   "outputs": [
    {
     "name": "stdout",
     "output_type": "stream",
     "text": [
      "[{'input': [1, 0, 1], 'output': 1}, {'input': [0, 1, 1], 'output': 0}, {'input': [1, 1, 1], 'output': 1}, {'input': [0, 0, 1], 'output': 0}, {'input': [0, 1, 0], 'output': 0}]\n"
     ]
    }
   ],
   "source": [
    "import random \n",
    "\n",
    "data = [{\"input\":[1,0,1], \"output\":1 },\n",
    "     {\"input\":[0,1,1], \"output\":0 },\n",
    "     {\"input\":[1,1,1], \"output\":1 },\n",
    "     {\"input\":[0,0,1], \"output\":0 },\n",
    "     {\"input\":[0,1,0], \"output\":0 }]\n",
    "print(data)"
   ]
  },
  {
   "cell_type": "code",
   "execution_count": 68,
   "id": "55f71b14-d1c4-4ece-af6d-adcb718ea325",
   "metadata": {},
   "outputs": [
    {
     "name": "stdout",
     "output_type": "stream",
     "text": [
      "[0.018303595560307695, -0.42805282019388735, -0.528894723361033]\n"
     ]
    }
   ],
   "source": [
    "#1. Calcular pesos iniciales (Aleatorio -1, 1)\n",
    "\n",
    "w = [random.uniform(-1, 1), random.uniform(-1, 1), random.uniform(-1, 1)]\n",
    "                               \n",
    "print(w)"
   ]
  },
  {
   "cell_type": "code",
   "execution_count": 70,
   "id": "c43a637e-5068-49f5-89f0-76fc5922e3ac",
   "metadata": {},
   "outputs": [],
   "source": [
    "#Funcion sumatoria\n",
    "def sumatoria(_input, w):\n",
    "    total = 0\n",
    "    for index, value in enumerate(_input):\n",
    "        total += value * w[index]\n",
    "    return total\n"
   ]
  },
  {
   "cell_type": "code",
   "execution_count": 72,
   "id": "ade8946e-dfa2-4087-bdfd-49152e1ac0d6",
   "metadata": {},
   "outputs": [],
   "source": [
    "#Funcion sigmoide\n",
    "import numpy as np\n",
    "def sigmoide(_sum):\n",
    "    res = 1 / (1 + np.exp(-_sum))\n",
    "    return res\n"
   ]
  },
  {
   "cell_type": "code",
   "execution_count": 74,
   "id": "4cef8700-599c-4aea-9cb9-1c71aaeca6ce",
   "metadata": {},
   "outputs": [],
   "source": [
    "#Ajustar pesos\n",
    "def wAdjustment(_input, error, gradient):\n",
    "    return _input*error*gradient"
   ]
  },
  {
   "cell_type": "code",
   "execution_count": 76,
   "id": "51193202-0527-454f-b442-18abf309a1ea",
   "metadata": {},
   "outputs": [],
   "source": [
    "def error(_output, y):\n",
    "    return _output - y"
   ]
  },
  {
   "cell_type": "code",
   "execution_count": 78,
   "id": "059b4b30-fbd2-4b4b-a945-ce89e3e1b61a",
   "metadata": {},
   "outputs": [],
   "source": [
    "def gradiente(y): \n",
    "    return y*(1-y)"
   ]
  },
  {
   "cell_type": "code",
   "execution_count": 92,
   "id": "ee6fb2a0-5cc9-490f-9f5f-db43be572b62",
   "metadata": {},
   "outputs": [
    {
     "name": "stdout",
     "output_type": "stream",
     "text": [
      "EPOCA->  0\n",
      "y ->  0.8327825717601602  output 1\n",
      "y ->  0.20979590151846192  output 0\n",
      "y ->  0.6712167030373957  output 1\n",
      "y ->  0.39661652861311864  output 0\n",
      "y ->  0.30342971985355555  output 0\n",
      "EPOCA->  1\n",
      "y ->  0.8412381191651979  output 1\n",
      "y ->  0.19965595822909807  output 0\n",
      "y ->  0.6793786090088626  output 1\n",
      "y ->  0.3880873039516692  output 0\n",
      "y ->  0.2979212223024583  output 0\n",
      "EPOCA->  2\n",
      "y ->  0.8488345459698574  output 1\n",
      "y ->  0.19036275847134773  output 0\n",
      "y ->  0.68698741029682  output 1\n",
      "y ->  0.379857157899881  output 0\n",
      "y ->  0.29285426120308167  output 0\n",
      "EPOCA->  3\n",
      "y ->  0.8557066931213547  output 1\n",
      "y ->  0.18182543189271186  output 0\n",
      "y ->  0.6941099373732749  output 1\n",
      "y ->  0.37193563223434495  output 0\n",
      "y ->  0.28816532205833084  output 0\n",
      "EPOCA->  4\n",
      "y ->  0.861960897058124  output 1\n",
      "y ->  0.17396214165139975  output 0\n",
      "y ->  0.7007986468993604  output 1\n",
      "y ->  0.36432454219927424  output 0\n",
      "y ->  0.28380130147907995  output 0\n",
      "EPOCA->  5\n",
      "y ->  0.8676825487179897  output 1\n",
      "y ->  0.16670045009058337  output 0\n",
      "y ->  0.7070963382982397  output 1\n",
      "y ->  0.35702053759896213  output 0\n",
      "y ->  0.27971792880233987  output 0\n",
      "EPOCA->  6\n",
      "y ->  0.8729412471884572  output 1\n",
      "y ->  0.1599767749102823  output 0\n",
      "y ->  0.7130389899242332  output 1\n",
      "y ->  0.35001681568098464  output 0\n",
      "y ->  0.2758783093644123  output 0\n",
      "EPOCA->  7\n",
      "y ->  0.8777944308252353  output 1\n",
      "y ->  0.15373549694860922  output 0\n",
      "y ->  0.7186575236717427  output 1\n",
      "y ->  0.34330429759310344  output 0\n",
      "y ->  0.2722516554947125  output 0\n",
      "EPOCA->  8\n",
      "y ->  0.8822900086884907  output 1\n",
      "y ->  0.14792798920189884  output 0\n",
      "y ->  0.7239789469418157  output 1\n",
      "y ->  0.33687245361152207  output 0\n",
      "y ->  0.2688122143586207  output 0\n",
      "EPOCA->  9\n",
      "y ->  0.8864683132270822  output 1\n",
      "y ->  0.14251168922515622  output 0\n",
      "y ->  0.7290271242683667  output 1\n",
      "y ->  0.33070989070557305  output 0\n",
      "y ->  0.2655383774072989  output 0\n"
     ]
    }
   ],
   "source": [
    "#2. Sumatoria y multiplicación de pesos\n",
    "epochs = 10\n",
    "for epoch in range(epochs):  \n",
    "    print(\"EPOCA-> \",epoch)\n",
    "    for d in data:\n",
    "        _sum = sumatoria(d['input'], w)\n",
    "        y = sigmoide(_sum)\n",
    "        #print(\"Sumatoria -> \", _sum)\n",
    "        print(\"y -> \", y, \" output\", d[\"output\"])\n",
    "        _error = error(d['output'], y)\n",
    "        _gradiente = gradiente(y)\n",
    "        for index, _w in enumerate(w):\n",
    "                w[index] += wAdjustment(d['input'][index], _error, _gradiente)\n",
    "        \n",
    "    \n"
   ]
  },
  {
   "cell_type": "code",
   "execution_count": null,
   "id": "5827aa66-ef40-4dd5-9fb4-3f2a2cc79a15",
   "metadata": {},
   "outputs": [],
   "source": [
    " #Ajustar los pesos \n",
    "       \n",
    "\n",
    "\n",
    "\n",
    "\n",
    "  # y = sigmoide (sum)\n",
    "        #print(\"Y-> \", y, \" Output-> \",data['output'])\n",
    "        #gradiente(y)\n",
    "        #error (output, y)"
   ]
  }
 ],
 "metadata": {
  "kernelspec": {
   "display_name": "Python [conda env:base] *",
   "language": "python",
   "name": "conda-base-py"
  },
  "language_info": {
   "codemirror_mode": {
    "name": "ipython",
    "version": 3
   },
   "file_extension": ".py",
   "mimetype": "text/x-python",
   "name": "python",
   "nbconvert_exporter": "python",
   "pygments_lexer": "ipython3",
   "version": "3.12.7"
  }
 },
 "nbformat": 4,
 "nbformat_minor": 5
}
