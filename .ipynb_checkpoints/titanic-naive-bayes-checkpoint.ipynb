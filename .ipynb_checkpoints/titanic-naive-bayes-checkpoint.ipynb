{
 "cells": [
  {
   "cell_type": "markdown",
   "id": "7876abb7-f7bb-42d2-8c75-cbdc3c69285d",
   "metadata": {},
   "source": [
    "# Titanic - Naive Bayes"
   ]
  },
  {
   "cell_type": "markdown",
   "id": "da370cf6-f018-4386-af01-a3fe6887be1b",
   "metadata": {},
   "source": [
    "## Datos de entrenamiento"
   ]
  },
  {
   "cell_type": "code",
   "execution_count": 26,
   "id": "00549417-de97-4ae3-b2c0-f1049f84d603",
   "metadata": {},
   "outputs": [
    {
     "data": {
      "text/html": [
       "<div>\n",
       "<style scoped>\n",
       "    .dataframe tbody tr th:only-of-type {\n",
       "        vertical-align: middle;\n",
       "    }\n",
       "\n",
       "    .dataframe tbody tr th {\n",
       "        vertical-align: top;\n",
       "    }\n",
       "\n",
       "    .dataframe thead th {\n",
       "        text-align: right;\n",
       "    }\n",
       "</style>\n",
       "<table border=\"1\" class=\"dataframe\">\n",
       "  <thead>\n",
       "    <tr style=\"text-align: right;\">\n",
       "      <th></th>\n",
       "      <th>PassengerId</th>\n",
       "      <th>Survived</th>\n",
       "      <th>Pclass</th>\n",
       "      <th>Name</th>\n",
       "      <th>Sex</th>\n",
       "      <th>Age</th>\n",
       "      <th>SibSp</th>\n",
       "      <th>Parch</th>\n",
       "      <th>Ticket</th>\n",
       "      <th>Fare</th>\n",
       "      <th>Cabin</th>\n",
       "      <th>Embarked</th>\n",
       "    </tr>\n",
       "  </thead>\n",
       "  <tbody>\n",
       "    <tr>\n",
       "      <th>0</th>\n",
       "      <td>1</td>\n",
       "      <td>0</td>\n",
       "      <td>3</td>\n",
       "      <td>Braund, Mr. Owen Harris</td>\n",
       "      <td>male</td>\n",
       "      <td>22.0</td>\n",
       "      <td>1</td>\n",
       "      <td>0</td>\n",
       "      <td>A/5 21171</td>\n",
       "      <td>7.2500</td>\n",
       "      <td>NaN</td>\n",
       "      <td>S</td>\n",
       "    </tr>\n",
       "    <tr>\n",
       "      <th>1</th>\n",
       "      <td>2</td>\n",
       "      <td>1</td>\n",
       "      <td>1</td>\n",
       "      <td>Cumings, Mrs. John Bradley (Florence Briggs Th...</td>\n",
       "      <td>female</td>\n",
       "      <td>38.0</td>\n",
       "      <td>1</td>\n",
       "      <td>0</td>\n",
       "      <td>PC 17599</td>\n",
       "      <td>71.2833</td>\n",
       "      <td>C85</td>\n",
       "      <td>C</td>\n",
       "    </tr>\n",
       "    <tr>\n",
       "      <th>2</th>\n",
       "      <td>3</td>\n",
       "      <td>1</td>\n",
       "      <td>3</td>\n",
       "      <td>Heikkinen, Miss. Laina</td>\n",
       "      <td>female</td>\n",
       "      <td>26.0</td>\n",
       "      <td>0</td>\n",
       "      <td>0</td>\n",
       "      <td>STON/O2. 3101282</td>\n",
       "      <td>7.9250</td>\n",
       "      <td>NaN</td>\n",
       "      <td>S</td>\n",
       "    </tr>\n",
       "    <tr>\n",
       "      <th>3</th>\n",
       "      <td>4</td>\n",
       "      <td>1</td>\n",
       "      <td>1</td>\n",
       "      <td>Futrelle, Mrs. Jacques Heath (Lily May Peel)</td>\n",
       "      <td>female</td>\n",
       "      <td>35.0</td>\n",
       "      <td>1</td>\n",
       "      <td>0</td>\n",
       "      <td>113803</td>\n",
       "      <td>53.1000</td>\n",
       "      <td>C123</td>\n",
       "      <td>S</td>\n",
       "    </tr>\n",
       "    <tr>\n",
       "      <th>4</th>\n",
       "      <td>5</td>\n",
       "      <td>0</td>\n",
       "      <td>3</td>\n",
       "      <td>Allen, Mr. William Henry</td>\n",
       "      <td>male</td>\n",
       "      <td>35.0</td>\n",
       "      <td>0</td>\n",
       "      <td>0</td>\n",
       "      <td>373450</td>\n",
       "      <td>8.0500</td>\n",
       "      <td>NaN</td>\n",
       "      <td>S</td>\n",
       "    </tr>\n",
       "  </tbody>\n",
       "</table>\n",
       "</div>"
      ],
      "text/plain": [
       "   PassengerId  Survived  Pclass  \\\n",
       "0            1         0       3   \n",
       "1            2         1       1   \n",
       "2            3         1       3   \n",
       "3            4         1       1   \n",
       "4            5         0       3   \n",
       "\n",
       "                                                Name     Sex   Age  SibSp  \\\n",
       "0                            Braund, Mr. Owen Harris    male  22.0      1   \n",
       "1  Cumings, Mrs. John Bradley (Florence Briggs Th...  female  38.0      1   \n",
       "2                             Heikkinen, Miss. Laina  female  26.0      0   \n",
       "3       Futrelle, Mrs. Jacques Heath (Lily May Peel)  female  35.0      1   \n",
       "4                           Allen, Mr. William Henry    male  35.0      0   \n",
       "\n",
       "   Parch            Ticket     Fare Cabin Embarked  \n",
       "0      0         A/5 21171   7.2500   NaN        S  \n",
       "1      0          PC 17599  71.2833   C85        C  \n",
       "2      0  STON/O2. 3101282   7.9250   NaN        S  \n",
       "3      0            113803  53.1000  C123        S  \n",
       "4      0            373450   8.0500   NaN        S  "
      ]
     },
     "execution_count": 26,
     "metadata": {},
     "output_type": "execute_result"
    }
   ],
   "source": [
    "import pandas as pd\n",
    "import matplotlib.pyplot as plt\n",
    "# Leer el archivo CSV\n",
    "df = pd.read_csv(\"titanic.csv\")\n",
    "\n",
    "# Mostrar las primeras filas del DataFrame\n",
    "df.head()\n"
   ]
  },
  {
   "cell_type": "code",
   "execution_count": 28,
   "id": "e9bcfbbb-f186-4362-a01c-9110cd36d462",
   "metadata": {},
   "outputs": [
    {
     "name": "stdout",
     "output_type": "stream",
     "text": [
      "count Survived\n",
      "0    549\n",
      "1    342\n",
      "Name: count, dtype: int64\n",
      "count_survived_0 549\n",
      "count_survived_1 342\n",
      "total_count 891\n",
      "P(survived = 0 ) 0.6161616161616161\n",
      "P(survived = 1 ) 0.3838383838383838\n"
     ]
    }
   ],
   "source": [
    "count = df['Survived'].value_counts()\n",
    "print(\"count\", count)\n",
    "\n",
    "count_survived_0 = count[0]\n",
    "count_survived_1 = count[1]\n",
    "\n",
    "total_count = count_survived_0 + count_survived_1\n",
    "\n",
    "print(\"count_survived_0\", count_survived_0)\n",
    "print(\"count_survived_1\", count_survived_1)\n",
    "print(\"total_count\", total_count)\n",
    "\n",
    "\n",
    "p_survived_0 = count_survived_0 / total_count\n",
    "p_survived_1 = count_survived_1 / total_count\n",
    "\n",
    "print(\"P(survived = 0 )\", p_survived_0)\n",
    "print(\"P(survived = 1 )\", p_survived_1)\n"
   ]
  },
  {
   "cell_type": "code",
   "execution_count": 30,
   "id": "74859823-04fd-4d5f-994f-0633481ee4dc",
   "metadata": {},
   "outputs": [
    {
     "data": {
      "image/png": "[encoded data removed]",
      "text/plain": [
       "<Figure size 600x600 with 1 Axes>"
      ]
     },
     "metadata": {},
     "output_type": "display_data"
    }
   ],
   "source": [
    "# Crear gráfico\n",
    "labels = ['survived = 0', 'survived = 1']\n",
    "sizes = [p_survived_0, p_survived_1]\n",
    "colors = ['red', 'green']\n",
    "explode = (0.05, 0.05) \n",
    "\n",
    "plt.figure(figsize=(6, 6))\n",
    "plt.pie(sizes, labels=labels, colors=colors, explode=explode, autopct='%1.2f%%', shadow=True, startangle=140)\n",
    "plt.title('Probabilidad de survived = 0 vs survived = 1')\n",
    "plt.axis('equal')  \n",
    "plt.show()"
   ]
  },
  {
   "cell_type": "markdown",
   "id": "89ea9bc7-052e-464f-bfcc-303f5e7b9d8a",
   "metadata": {},
   "source": [
    "## Datos de prueba"
   ]
  },
  {
   "cell_type": "code",
   "execution_count": 38,
   "id": "df463de4-e9e8-48bd-ad11-244e4e243134",
   "metadata": {},
   "outputs": [],
   "source": [
    "#Input (Datos de  prueba)\n",
    "pClass_input = 2\n",
    "sex_input = \"male\"\n",
    "edad_input = 35\n",
    "sibSp_input = 2"
   ]
  },
  {
   "cell_type": "code",
   "execution_count": 52,
   "id": "a6722722-712b-4aba-a947-b3ed36bf346d",
   "metadata": {},
   "outputs": [],
   "source": [
    "def calculate_conditional_probabilities(df: pd.DataFrame, property_name: str, property_value: any) -> tuple:\n",
    "    \"\"\"\n",
    "    Calculate conditional probabilities P(property_value | survived=0) and P(property_value | survived=1)\n",
    "    \n",
    "    Args:\n",
    "        df (pd.DataFrame): DataFrame containing the dataset\n",
    "        property_name (str): Name of the property column (e.g., 'Pclass', 'Age')\n",
    "        property_value (any): Value of the property to filter by\n",
    "        \n",
    "    Returns:\n",
    "        tuple: (P(property_value | survived=0), P(property_value | survived=1))\n",
    "    \"\"\"\n",
    "    # Filter dataframe by the property value\n",
    "    df_filtered = df[df[property_name] == property_value]\n",
    "    \n",
    "    # Count survivors and non-survivors in the filtered data\n",
    "    survival_counts = df_filtered['Survived'].value_counts()\n",
    "    \n",
    "    # Handle cases where all passengers survived or all died\n",
    "    non_survivors = survival_counts.get(0, 0)\n",
    "    survivors = survival_counts.get(1, 0)\n",
    "    \n",
    "    # Calculate total count\n",
    "    total_count = non_survivors + survivors\n",
    "    \n",
    "    # Calculate conditional probabilities\n",
    "    p_property_given_survived_0 = non_survivors / total_count if total_count > 0 else 0\n",
    "    p_property_given_survived_1 = survivors / total_count if total_count > 0 else 0\n",
    "    \n",
    "    # Print results for debugging/information\n",
    "    print(f\"Count of filtered records: {survival_counts}\")\n",
    "    print(f\"Non-survivors with {property_name}={property_value}: {non_survivors}\")\n",
    "    print(f\"Survivors with {property_name}={property_value}: {survivors}\")\n",
    "    print(f\"Total count with {property_name}={property_value}: {total_count}\")\n",
    "    print(f\"P({property_name}={property_value} | survived=0): {p_property_given_survived_0}\")\n",
    "    print(f\"P({property_name}={property_value} | survived=1): {p_property_given_survived_1}\")\n",
    "    \n",
    "    return p_property_given_survived_0, p_property_given_survived_1"
   ]
  },
  {
   "cell_type": "code",
   "execution_count": 56,
   "id": "d77aaa41-2635-4378-be2c-2c01d290d5cb",
   "metadata": {},
   "outputs": [
    {
     "name": "stdout",
     "output_type": "stream",
     "text": [
      "Count of filtered records: Survived\n",
      "0    97\n",
      "1    87\n",
      "Name: count, dtype: int64\n",
      "Non-survivors with Pclass=2: 97\n",
      "Survivors with Pclass=2: 87\n",
      "Total count with Pclass=2: 184\n",
      "P(Pclass=2 | survived=0): 0.5271739130434783\n",
      "P(Pclass=2 | survived=1): 0.47282608695652173\n"
     ]
    }
   ],
   "source": [
    "p_pclass_survived_0, p_pclass_survived_1 = calculate_conditional_probabilities(df, 'Pclass', pClass_input)"
   ]
  },
  {
   "cell_type": "code",
   "execution_count": null,
   "id": "ce163641-2d97-4add-b025-bd17187e3166",
   "metadata": {},
   "outputs": [],
   "source": []
  }
 ],
 "metadata": {
  "kernelspec": {
   "display_name": "Python [conda env:base] *",
   "language": "python",
   "name": "conda-base-py"
  },
  "language_info": {
   "codemirror_mode": {
    "name": "ipython",
    "version": 3
   },
   "file_extension": ".py",
   "mimetype": "text/x-python",
   "name": "python",
   "nbconvert_exporter": "python",
   "pygments_lexer": "ipython3",
   "version": "3.12.7"
  }
 },
 "nbformat": 4,
 "nbformat_minor": 5
}
